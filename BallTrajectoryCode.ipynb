{
  "nbformat": 4,
  "nbformat_minor": 0,
  "metadata": {
    "colab": {
      "provenance": [],
      "authorship_tag": "ABX9TyM8G4KjMgoq5dVYHqFHYhXB",
      "include_colab_link": true
    },
    "kernelspec": {
      "name": "python3",
      "display_name": "Python 3"
    },
    "language_info": {
      "name": "python"
    }
  },
  "cells": [
    {
      "cell_type": "markdown",
      "metadata": {
        "id": "view-in-github",
        "colab_type": "text"
      },
      "source": [
        "<a href=\"https://colab.research.google.com/github/Kashaf22/Capstone/blob/Kashaf/BallTrajectoryCode.ipynb\" target=\"_parent\"><img src=\"https://colab.research.google.com/assets/colab-badge.svg\" alt=\"Open In Colab\"/></a>"
      ]
    },
    {
      "cell_type": "code",
      "execution_count": null,
      "metadata": {
        "colab": {
          "base_uri": "https://localhost:8080/"
        },
        "id": "mFk1zP7z-L6x",
        "outputId": "c9093148-3f66-48e2-803e-526cefd6840c"
      },
      "outputs": [
        {
          "output_type": "stream",
          "name": "stdout",
          "text": [
            "Data has been successfully saved to realistic_trajectory_data.json.\n"
          ]
        }
      ],
      "source": [
        "from scipy.integrate import quad\n",
        "import numpy as np\n",
        "import pandas as pd\n",
        "import json\n",
        "\n",
        "def trajectory(a_x, a_y, a_z, t, ip=0.01):\n",
        "    # calculating v_leg in x, y, z\n",
        "    v_l_x = a_x * ip\n",
        "    v_l_y = a_y * ip\n",
        "    v_l_z = a_z * ip\n",
        "    # calculate v_ball in x, y, z\n",
        "    v_b_x = v_l_x * (M_leg / (M_leg + M_ball)) * (1 + e)\n",
        "    v_b_y = v_l_y * (M_leg / (M_leg + M_ball)) * (1 + e)\n",
        "    v_b_z = v_l_z * (M_leg / (M_leg + M_ball)) * (1 + e)\n",
        "\n",
        "    \"\"\"Calculate the trajectory of the ball.\"\"\"\n",
        "    x_t = v_b_x * t\n",
        "    y_t = v_b_y * t\n",
        "    z_t = v_b_z * t - 0.5 * (9.81) * t ** 2\n",
        "    return [x_t, y_t, z_t]\n",
        "\n",
        "def generate_realistic_trajectory_data(num_samples, t_max, num_time_steps):\n",
        "    \"\"\"Generate realistic trajectory data.\"\"\"\n",
        "    # Realistic acceleration ranges\n",
        "    ax = np.random.uniform(0, 20, num_samples)  # Horizontal acceleration\n",
        "    ay = np.random.uniform(0, 20, num_samples)  # Horizontal acceleration\n",
        "    az = np.random.uniform(0, 40, num_samples)  # Vertical acceleration, including gravity\n",
        "\n",
        "    t = np.linspace(0, t_max, num_time_steps)  # Time intervals\n",
        "\n",
        "    data = []\n",
        "    for i in range(num_samples):\n",
        "        for time in t:\n",
        "            x_t, y_t, z_t = trajectory(ax[i], ay[i], az[i], time, 0.01)\n",
        "            data.append({'ax': ax[i], 'ay': ay[i], 'az': az[i], 'time': time, 'x': x_t, 'y': y_t, 'z': z_t})\n",
        "\n",
        "    return data\n",
        "\n",
        "# Generating the data\n",
        "num_samples = 100\n",
        "t_max = 5\n",
        "num_time_steps = 100\n",
        "data = generate_realistic_trajectory_data(num_samples, t_max, num_time_steps)\n",
        "\n",
        "# Saving the data to a JSON file\n",
        "file_path = 'realistic_trajectory_data.json'\n",
        "with open(file_path, 'w') as json_file:\n",
        "    json.dump(data, json_file, indent=4)\n",
        "\n",
        "print(f\"Data has been successfully saved to {file_path}.\")"
      ]
    },
    {
      "cell_type": "code",
      "source": [
        "pip install scipy"
      ],
      "metadata": {
        "id": "I2Oa8wGW_3ww"
      },
      "execution_count": null,
      "outputs": []
    }
  ]
}